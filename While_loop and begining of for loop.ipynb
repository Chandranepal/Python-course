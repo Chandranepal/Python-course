{
 "cells": [
  {
   "cell_type": "markdown",
   "metadata": {},
   "source": [
    "# Factorial"
   ]
  },
  {
   "cell_type": "code",
   "execution_count": 1,
   "metadata": {},
   "outputs": [
    {
     "name": "stdout",
     "output_type": "stream",
     "text": [
      "Enter the number: 5\n",
      "The factorial is:  120\n"
     ]
    }
   ],
   "source": [
    "while True:\n",
    "    x=int(input(\"Enter the number: \"))\n",
    "    if x==0:\n",
    "        print(\"The factorial is 1\")\n",
    "    elif x<0:\n",
    "        print(\"A negative integer has no factorial\")\n",
    "        continue\n",
    "    else:\n",
    "        result=1\n",
    "        i=1\n",
    "        while i<=x:\n",
    "            result=result*i\n",
    "            i=i+1\n",
    "        print(\"The factorial is: \",result)\n",
    "        break"
   ]
  },
  {
   "cell_type": "raw",
   "metadata": {},
   "source": [
    "Input: Enter the number : 123   123%10=3\n",
    "                                456%10=6\n",
    "123%10=3\n",
    "123//10=12                                          12%10=2\n",
    "                                                    12//10=1\n",
    "Output: sum of each digits: 6"
   ]
  },
  {
   "cell_type": "code",
   "execution_count": 2,
   "metadata": {},
   "outputs": [
    {
     "name": "stdout",
     "output_type": "stream",
     "text": [
      "Enter the number: 123\n",
      "The sum is 6\n"
     ]
    }
   ],
   "source": [
    "number=int(input(\"Enter the number: \")) #123  #12\n",
    "sum=0  #3\n",
    "while True:\n",
    "    r=number%10  #reamainder gives last digit when divided by 10 #r:3  #r:2\n",
    "    sum=sum+r    #sum: 0+3=3 #sum: 3+2=5\n",
    "    number=number//10  # gives the remaining number #number=12  #number=1\n",
    "    if number<10:\n",
    "        sum=sum+number  #sum:5+1=6\n",
    "        break\n",
    "print(\"The sum is\",sum)\n"
   ]
  },
  {
   "cell_type": "code",
   "execution_count": 3,
   "metadata": {},
   "outputs": [
    {
     "name": "stdout",
     "output_type": "stream",
     "text": [
      "Enter one number: 2\n",
      "Enter other number: 6\n",
      "HCF is 2\n"
     ]
    }
   ],
   "source": [
    "num1=int(input(\"Enter one number: \"))  #6\n",
    "num2=int(input(\"Enter other number: \")) #15\n",
    "if num1%num2!=0 and num2%num1!=0:\n",
    "    print(\"HCF is 1\")\n",
    "if num1%num2==0:\n",
    "    print(\"Hcf is\",num2)\n",
    "else:\n",
    "    print(\"HCF is\",num1)"
   ]
  },
  {
   "cell_type": "code",
   "execution_count": 5,
   "metadata": {},
   "outputs": [
    {
     "name": "stdout",
     "output_type": "stream",
     "text": [
      "Enter one number: 8\n",
      "Enter other number: 16\n",
      "8\n"
     ]
    }
   ],
   "source": [
    "num1=int(input(\"Enter one number: \"))  #6\n",
    "num2=int(input(\"Enter other number: \")) #15\n",
    "while num2!=0:\n",
    "    num1,num2=num2,num1%num2\n",
    "print(num1)"
   ]
  },
  {
   "cell_type": "markdown",
   "metadata": {},
   "source": [
    "# Or"
   ]
  },
  {
   "cell_type": "code",
   "execution_count": 5,
   "metadata": {},
   "outputs": [
    {
     "name": "stdout",
     "output_type": "stream",
     "text": [
      "Enter first number2\n",
      "Enter second number8\n",
      " The HCF of 2 and 8 is 2\n"
     ]
    }
   ],
   "source": [
    "num1= int(input(\"Enter first number\"))\n",
    "num2=int(input(\"Enter second number\"))\n",
    "i=1\n",
    "while i<=num1 and i<= num2:\n",
    "    if num1%i==0 and num2%i==0:\n",
    "        hcf = i\n",
    "    i=i+1\n",
    "print(\" The HCF of {} and {} is {}\". format(num1,num2,hcf))"
   ]
  },
  {
   "cell_type": "markdown",
   "metadata": {},
   "source": [
    "# For-loop"
   ]
  },
  {
   "cell_type": "raw",
   "metadata": {},
   "source": [
    "for (any variable you want) in ():\n",
    "    statement"
   ]
  },
  {
   "cell_type": "markdown",
   "metadata": {},
   "source": [
    "# Difference between while and for:"
   ]
  },
  {
   "cell_type": "markdown",
   "metadata": {},
   "source": [
    "# While"
   ]
  },
  {
   "cell_type": "code",
   "execution_count": 6,
   "metadata": {},
   "outputs": [
    {
     "name": "stdout",
     "output_type": "stream",
     "text": [
      "0\n",
      "1\n",
      "2\n",
      "3\n",
      "4\n",
      "5\n"
     ]
    }
   ],
   "source": [
    "i=0\n",
    "while i<=5:\n",
    "    print(i)\n",
    "    i=i+1"
   ]
  },
  {
   "cell_type": "markdown",
   "metadata": {},
   "source": [
    "# For"
   ]
  },
  {
   "cell_type": "code",
   "execution_count": 8,
   "metadata": {},
   "outputs": [
    {
     "name": "stdout",
     "output_type": "stream",
     "text": [
      "0\n",
      "1\n",
      "2\n",
      "3\n",
      "4\n",
      "5\n"
     ]
    }
   ],
   "source": [
    "for i in range(6):\n",
    "    print(i)"
   ]
  },
  {
   "cell_type": "raw",
   "metadata": {},
   "source": [
    "range(n): 0,1,2,n-1 becoz stop is exclusive\n",
    "range(5):0,1,2,3,4\n",
    "range(1,5): 1,2,3,4 becoz start is inclusive\n",
    "range(1,11,2): 1 3 5 7 9 "
   ]
  },
  {
   "cell_type": "code",
   "execution_count": 9,
   "metadata": {},
   "outputs": [
    {
     "name": "stdout",
     "output_type": "stream",
     "text": [
      "1\n",
      "2\n",
      "3\n",
      "4\n"
     ]
    }
   ],
   "source": [
    "for i in range(1,5):\n",
    "    print(i)"
   ]
  },
  {
   "cell_type": "code",
   "execution_count": 10,
   "metadata": {},
   "outputs": [
    {
     "name": "stdout",
     "output_type": "stream",
     "text": [
      "Hello\n",
      "Hello\n",
      "Hello\n",
      "Hello\n",
      "Hello\n"
     ]
    }
   ],
   "source": [
    "for i in range(5):\n",
    "    print(\"Hello\")"
   ]
  },
  {
   "cell_type": "code",
   "execution_count": 11,
   "metadata": {},
   "outputs": [
    {
     "name": "stdout",
     "output_type": "stream",
     "text": [
      "Hello 1\n",
      "Hello 2\n",
      "Hello 3\n",
      "Hello 4\n"
     ]
    }
   ],
   "source": [
    "for i in range(1,5):\n",
    "    print(\"Hello\",i)"
   ]
  },
  {
   "cell_type": "code",
   "execution_count": 14,
   "metadata": {},
   "outputs": [
    {
     "name": "stdout",
     "output_type": "stream",
     "text": [
      "orange\n",
      "mango\n",
      "apple\n"
     ]
    }
   ],
   "source": [
    "fruits=[\"orange\",\"mango\",\"apple\"]\n",
    "for i in fruits:\n",
    "    print(i)"
   ]
  },
  {
   "cell_type": "code",
   "execution_count": 15,
   "metadata": {
    "scrolled": true
   },
   "outputs": [
    {
     "name": "stdout",
     "output_type": "stream",
     "text": [
      "orange\n",
      "mango\n",
      "apple\n"
     ]
    }
   ],
   "source": [
    "for i in [\"orange\",\"mango\",\"apple\"]:\n",
    "    print(i)"
   ]
  },
  {
   "cell_type": "code",
   "execution_count": 27,
   "metadata": {},
   "outputs": [
    {
     "name": "stdout",
     "output_type": "stream",
     "text": [
      "####\n",
      "####\n",
      "####\n",
      "####\n"
     ]
    }
   ],
   "source": [
    "for i in range(4):\n",
    "    for i in range(4):\n",
    "            print(\"#\",end='')\n",
    "    print()\n"
   ]
  },
  {
   "cell_type": "code",
   "execution_count": null,
   "metadata": {},
   "outputs": [],
   "source": [
    "#\n",
    "##\n",
    "###\n",
    "####"
   ]
  },
  {
   "cell_type": "code",
   "execution_count": 28,
   "metadata": {},
   "outputs": [
    {
     "name": "stdout",
     "output_type": "stream",
     "text": [
      "#\n",
      "##\n",
      "###\n",
      "####\n"
     ]
    }
   ],
   "source": [
    "for i in range(1,5):\n",
    "    print(\"#\"*i)"
   ]
  },
  {
   "cell_type": "code",
   "execution_count": null,
   "metadata": {},
   "outputs": [],
   "source": []
  }
 ],
 "metadata": {
  "kernelspec": {
   "display_name": "Python 3",
   "language": "python",
   "name": "python3"
  },
  "language_info": {
   "codemirror_mode": {
    "name": "ipython",
    "version": 3
   },
   "file_extension": ".py",
   "mimetype": "text/x-python",
   "name": "python",
   "nbconvert_exporter": "python",
   "pygments_lexer": "ipython3",
   "version": "3.7.4"
  }
 },
 "nbformat": 4,
 "nbformat_minor": 2
}
